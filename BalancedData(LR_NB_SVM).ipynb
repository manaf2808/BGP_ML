{
  "nbformat": 4,
  "nbformat_minor": 0,
  "metadata": {
    "colab": {
      "provenance": [],
      "include_colab_link": true
    },
    "kernelspec": {
      "name": "python3",
      "display_name": "Python 3"
    },
    "language_info": {
      "name": "python"
    }
  },
  "cells": [
    {
      "cell_type": "markdown",
      "metadata": {
        "id": "view-in-github",
        "colab_type": "text"
      },
      "source": [
        "<a href=\"https://colab.research.google.com/github/manaf2808/BGP_ML/blob/main/BalancedData(LR_NB_SVM).ipynb\" target=\"_parent\"><img src=\"https://colab.research.google.com/assets/colab-badge.svg\" alt=\"Open In Colab\"/></a>"
      ]
    },
    {
      "cell_type": "code",
      "source": [
        "import math\n",
        "import time\n",
        "import pandas as pd\n",
        "import numpy as np\n",
        "from sklearn.model_selection import train_test_split\n",
        "from sklearn.metrics import accuracy_score, confusion_matrix, classification_report\n",
        "from sklearn.linear_model import LogisticRegression\n",
        "from sklearn.naive_bayes import GaussianNB\n",
        "from sklearn.svm import LinearSVC, SVC"
      ],
      "metadata": {
        "id": "lP7dDr4Z248t"
      },
      "execution_count": null,
      "outputs": []
    },
    {
      "cell_type": "markdown",
      "source": [
        "# **Load Data**"
      ],
      "metadata": {
        "id": "ijKRPQk93Bfm"
      }
    },
    {
      "cell_type": "code",
      "source": [
        "df = pd.read_csv('/content/Slammer.csv')\n",
        "\n",
        "new_column_names = ['Hour+Min', 'Hour', 'Min', 'Sec','1.Number of announcements', '2.Number of withdrawals', '3.Number of announced NLRI prefixes', '4.Number of withdrawn NLRI prefixes', '5.Average AS-path length', '6.Maximum AS-path length', '7.Average unique AS-path length', '8.Number of duplicate announcements', '9.Number of implicit withdrawals', '10.Number of duplicate withdrawals', '11.Maximum edit distance', '12Iter-Arrival rate','13.Maximum edit distance = 7', '14.Maximum edit distance = 8', '15.Maximum edit distance = 9', '16.Maximum edit distance = 10', '17.Maximum edit distance = 11', '18.Maximum edit distance = 12', '19.Maximum edit distance = 13', '20.Maximum edit distance = 14', '21.Maximum edit distance = 15', '22.Maximum edit distance = 16', '23.Maximum edit distance = 17','24.Maximum AS-path length = 7', '25.Maximum AS-path length = 8', '26.Maximum AS-path length = 9', '27.Maximum AS-path length = 10', '28.Maximum AS-path length = 11', '29.Maximum AS-path length = 12', '30.Maximum AS-path length = 13', '31.Maximum AS-path length = 14', '32.Maximum AS-path length = 15', '33.Maximum AS-path length = 16', '34.Number of (IGP) packets', '35.Number of (EGP) packets','36.Number of incomplete packets', '37.Packet size (B)', 'labels']\n",
        "df.columns = new_column_names\n",
        "\n",
        "df_post = df[df['labels']==1]\n",
        "n = df_post.shape[0]\n",
        "print(n)\n",
        "\n",
        "X = df.drop(df.columns[:4].tolist() + ['labels'], axis=1)\n",
        "y = df['labels'].values\n"
      ],
      "metadata": {
        "colab": {
          "base_uri": "https://localhost:8080/"
        },
        "id": "r-bv3VR91TmW",
        "outputId": "d17deb5c-7e6f-45ed-cc67-e537a7e4924b"
      },
      "execution_count": null,
      "outputs": [
        {
          "output_type": "stream",
          "name": "stdout",
          "text": [
            "869\n"
          ]
        }
      ]
    },
    {
      "cell_type": "code",
      "source": [
        "positive_count = sum(y == 1)\n",
        "negative_count = sum(y == -1)\n",
        "\n",
        "print(\"Positive instances:\", positive_count)\n",
        "print(\"Negative instances:\", negative_count)"
      ],
      "metadata": {
        "colab": {
          "base_uri": "https://localhost:8080/"
        },
        "id": "9qQijVfu3VR_",
        "outputId": "a94b2d15-598e-4b86-91d2-f15948f61e9a"
      },
      "execution_count": null,
      "outputs": [
        {
          "output_type": "stream",
          "name": "stdout",
          "text": [
            "Positive instances: 869\n",
            "Negative instances: 6330\n"
          ]
        }
      ]
    },
    {
      "cell_type": "code",
      "source": [
        "df_neg = df[df['labels']==-1]\n",
        "print(df_neg.shape[0])\n",
        "# Randomly sample n observations from the dataframe\n",
        "sample_data = df_neg.sample(n)"
      ],
      "metadata": {
        "colab": {
          "base_uri": "https://localhost:8080/"
        },
        "id": "ajFSbr5t28Vl",
        "outputId": "61e4e2ec-608c-45bc-9b92-b30ad2bf3b85"
      },
      "execution_count": null,
      "outputs": [
        {
          "output_type": "stream",
          "name": "stdout",
          "text": [
            "6330\n"
          ]
        }
      ]
    },
    {
      "cell_type": "code",
      "source": [
        "combined_df = pd.concat([df_post, sample_data], ignore_index=True)\n",
        "X = combined_df.drop('labels', axis=1)\n",
        "y = combined_df['labels']"
      ],
      "metadata": {
        "id": "RMbWP-uq4DUh"
      },
      "execution_count": null,
      "outputs": []
    },
    {
      "cell_type": "code",
      "source": [
        "# Split the data into training and testing sets\n",
        "X_train, X_test, y_train, y_test = train_test_split(X, y, test_size=0.2, random_state=42)\n",
        "\n",
        "positive_count = sum(y_train == 1)\n",
        "negative_count = sum(y_train == -1)\n",
        "\n",
        "print(\"Positive instances:\", positive_count)\n",
        "print(\"Negative instances:\", negative_count)"
      ],
      "metadata": {
        "colab": {
          "base_uri": "https://localhost:8080/"
        },
        "id": "dKgAH3JA3jdG",
        "outputId": "6259c74b-0fa8-4827-b9a2-2e0051b9a9c5"
      },
      "execution_count": null,
      "outputs": [
        {
          "output_type": "stream",
          "name": "stdout",
          "text": [
            "Positive instances: 684\n",
            "Negative instances: 706\n"
          ]
        }
      ]
    },
    {
      "cell_type": "markdown",
      "source": [
        "# **Logistic Regression**"
      ],
      "metadata": {
        "id": "N964NBCT3ZOv"
      }
    },
    {
      "cell_type": "code",
      "source": [
        "# Create an LogisticRegression classifier\n",
        "classifier = LogisticRegression()\n",
        "\n",
        "start_time = time.time()\n",
        "# Train the classifier using the training data\n",
        "classifier.fit(X_train, y_train)\n",
        "training_time = time.time() - start_time\n",
        "\n",
        "# Make predictions on the testing data\n",
        "y_pred = classifier.predict(X_test)\n",
        "\n",
        "# Evaluate the accuracy of the classifier\n",
        "accuracy = accuracy_score(y_test, y_pred)\n",
        "print(\"Accuracy:\", accuracy)\n",
        "\n",
        "# Obtain the confusion matrix\n",
        "cm = confusion_matrix(y_test, y_pred)\n",
        "print(\"Confusion Matrix:\")\n",
        "print(cm)\n",
        "\n",
        "#Classification report\n",
        "classification_report = classification_report(y_test, y_pred)\n",
        "print(\"Classification Report:\")\n",
        "print(classification_report)\n",
        "print(\"Training Time:\", training_time, \"seconds\")"
      ],
      "metadata": {
        "colab": {
          "base_uri": "https://localhost:8080/"
        },
        "id": "Rywr6pIw4b6_",
        "outputId": "f6387078-c08a-4f60-abc1-03dd136a9cf9"
      },
      "execution_count": null,
      "outputs": [
        {
          "output_type": "stream",
          "name": "stdout",
          "text": [
            "Accuracy: 0.9166666666666666\n",
            "Confusion Matrix:\n",
            "[[146  17]\n",
            " [ 12 173]]\n",
            "Classification Report:\n",
            "              precision    recall  f1-score   support\n",
            "\n",
            "          -1       0.92      0.90      0.91       163\n",
            "           1       0.91      0.94      0.92       185\n",
            "\n",
            "    accuracy                           0.92       348\n",
            "   macro avg       0.92      0.92      0.92       348\n",
            "weighted avg       0.92      0.92      0.92       348\n",
            "\n",
            "Training Time: 0.0674738883972168 seconds\n"
          ]
        },
        {
          "output_type": "stream",
          "name": "stderr",
          "text": [
            "/usr/local/lib/python3.10/dist-packages/sklearn/linear_model/_logistic.py:458: ConvergenceWarning: lbfgs failed to converge (status=1):\n",
            "STOP: TOTAL NO. of ITERATIONS REACHED LIMIT.\n",
            "\n",
            "Increase the number of iterations (max_iter) or scale the data as shown in:\n",
            "    https://scikit-learn.org/stable/modules/preprocessing.html\n",
            "Please also refer to the documentation for alternative solver options:\n",
            "    https://scikit-learn.org/stable/modules/linear_model.html#logistic-regression\n",
            "  n_iter_i = _check_optimize_result(\n"
          ]
        }
      ]
    },
    {
      "cell_type": "markdown",
      "source": [
        "# **Naive Bayes**"
      ],
      "metadata": {
        "id": "TRluwxgU3tul"
      }
    },
    {
      "cell_type": "code",
      "source": [
        "from sklearn.metrics import classification_report\n",
        "# Create an NB classifier\n",
        "classifier = GaussianNB()\n",
        "\n",
        "\n",
        "start_time = time.time()\n",
        "# Train the classifier using the training data\n",
        "classifier.fit(X_train, y_train)\n",
        "training_time = time.time() - start_time\n",
        "\n",
        "# Make predictions on the testing data\n",
        "y_pred = classifier.predict(X_test)\n",
        "\n",
        "# Evaluate the accuracy of the classifier\n",
        "accuracy = accuracy_score(y_test, y_pred)\n",
        "print(\"Accuracy:\", accuracy)\n",
        "\n",
        "# Obtain the confusion matrix\n",
        "cm = confusion_matrix(y_test, y_pred)\n",
        "print(\"Confusion Matrix:\")\n",
        "print(cm)\n",
        "\n",
        "#Classification report\n",
        "classification_report = classification_report(y_test, y_pred)\n",
        "print(\"Classification Report:\")\n",
        "print(classification_report)\n",
        "\n",
        "print(\"Training Time:\", training_time, \"seconds\")"
      ],
      "metadata": {
        "colab": {
          "base_uri": "https://localhost:8080/"
        },
        "id": "eDbPe3Ky3xXy",
        "outputId": "63656831-921b-417e-8a89-5b88311285a9"
      },
      "execution_count": null,
      "outputs": [
        {
          "output_type": "stream",
          "name": "stdout",
          "text": [
            "Accuracy: 0.8505747126436781\n",
            "Confusion Matrix:\n",
            "[[143  20]\n",
            " [ 32 153]]\n",
            "Classification Report:\n",
            "              precision    recall  f1-score   support\n",
            "\n",
            "          -1       0.82      0.88      0.85       163\n",
            "           1       0.88      0.83      0.85       185\n",
            "\n",
            "    accuracy                           0.85       348\n",
            "   macro avg       0.85      0.85      0.85       348\n",
            "weighted avg       0.85      0.85      0.85       348\n",
            "\n",
            "Training Time: 0.010294914245605469 seconds\n"
          ]
        }
      ]
    },
    {
      "cell_type": "markdown",
      "source": [
        "# **SVM Different Kernels**"
      ],
      "metadata": {
        "id": "bLqrBvFr3zxj"
      }
    },
    {
      "cell_type": "code",
      "source": [
        "from sklearn.metrics import classification_report\n",
        "# Define the kernel functions to test\n",
        "kernel_functions = ['linear', 'poly', 'rbf', 'sigmoid']\n",
        "\n",
        "# Test different kernel functions\n",
        "for kernel in kernel_functions:\n",
        "    # Train the SVM model and measure the time taken\n",
        "    start_time = time.time()\n",
        "    svm_model = SVC(kernel=kernel)\n",
        "    svm_model.fit(X_train, y_train)\n",
        "    end_time = time.time()\n",
        "\n",
        "    # Make predictions on the test data\n",
        "    y_pred = svm_model.predict(X_test)\n",
        "\n",
        "    # Print the classification report and confusion matrix\n",
        "    print(\"Kernel Function: \", kernel)\n",
        "    print(classification_report(y_test, y_pred))\n",
        "    report = classification_report(y_test, y_pred, output_dict=True)\n",
        "    for label, metrics in report.items():\n",
        "        if label.isdigit():\n",
        "            for metric, value in metrics.items():\n",
        "                if metric != 'support':\n",
        "                    print(f\"{metric.capitalize()} ({label}): {value:.2%}\")\n",
        "    print(confusion_matrix(y_test, y_pred))\n",
        "    accuracy = accuracy_score(y_test, y_pred)\n",
        "    print(\"Accuracy: {:.2%}\".format(accuracy))\n",
        "    print(\"Time taken to train: {:.2f} seconds\\n\".format(end_time - start_time))"
      ],
      "metadata": {
        "colab": {
          "base_uri": "https://localhost:8080/"
        },
        "id": "3Tttd_Hp33hG",
        "outputId": "1a243ab9-5b84-4b38-c425-b247c81e407c"
      },
      "execution_count": null,
      "outputs": [
        {
          "output_type": "stream",
          "name": "stdout",
          "text": [
            "Kernel Function:  linear\n",
            "              precision    recall  f1-score   support\n",
            "\n",
            "          -1       0.95      0.90      0.92       163\n",
            "           1       0.91      0.96      0.94       185\n",
            "\n",
            "    accuracy                           0.93       348\n",
            "   macro avg       0.93      0.93      0.93       348\n",
            "weighted avg       0.93      0.93      0.93       348\n",
            "\n",
            "Precision (1): 91.28%\n",
            "Recall (1): 96.22%\n",
            "F1-score (1): 93.68%\n",
            "[[146  17]\n",
            " [  7 178]]\n",
            "Accuracy: 93.10%\n",
            "Time taken to train: 38.40 seconds\n",
            "\n",
            "Kernel Function:  poly\n",
            "              precision    recall  f1-score   support\n",
            "\n",
            "          -1       0.92      0.90      0.91       163\n",
            "           1       0.91      0.93      0.92       185\n",
            "\n",
            "    accuracy                           0.92       348\n",
            "   macro avg       0.92      0.92      0.92       348\n",
            "weighted avg       0.92      0.92      0.92       348\n",
            "\n",
            "Precision (1): 91.49%\n",
            "Recall (1): 92.97%\n",
            "F1-score (1): 92.23%\n",
            "[[147  16]\n",
            " [ 13 172]]\n",
            "Accuracy: 91.67%\n",
            "Time taken to train: 0.04 seconds\n",
            "\n",
            "Kernel Function:  rbf\n",
            "              precision    recall  f1-score   support\n",
            "\n",
            "          -1       0.93      0.92      0.92       163\n",
            "           1       0.93      0.94      0.93       185\n",
            "\n",
            "    accuracy                           0.93       348\n",
            "   macro avg       0.93      0.93      0.93       348\n",
            "weighted avg       0.93      0.93      0.93       348\n",
            "\n",
            "Precision (1): 93.01%\n",
            "Recall (1): 93.51%\n",
            "F1-score (1): 93.26%\n",
            "[[150  13]\n",
            " [ 12 173]]\n",
            "Accuracy: 92.82%\n",
            "Time taken to train: 0.04 seconds\n",
            "\n",
            "Kernel Function:  sigmoid\n",
            "              precision    recall  f1-score   support\n",
            "\n",
            "          -1       0.66      0.67      0.67       163\n",
            "           1       0.71      0.69      0.70       185\n",
            "\n",
            "    accuracy                           0.68       348\n",
            "   macro avg       0.68      0.68      0.68       348\n",
            "weighted avg       0.68      0.68      0.68       348\n",
            "\n",
            "Precision (1): 70.72%\n",
            "Recall (1): 69.19%\n",
            "F1-score (1): 69.95%\n",
            "[[110  53]\n",
            " [ 57 128]]\n",
            "Accuracy: 68.39%\n",
            "Time taken to train: 0.07 seconds\n",
            "\n"
          ]
        }
      ]
    }
  ]
}