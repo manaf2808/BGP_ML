{
  "nbformat": 4,
  "nbformat_minor": 0,
  "metadata": {
    "colab": {
      "provenance": [],
      "include_colab_link": true
    },
    "kernelspec": {
      "name": "python3",
      "display_name": "Python 3"
    },
    "language_info": {
      "name": "python"
    }
  },
  "cells": [
    {
      "cell_type": "markdown",
      "metadata": {
        "id": "view-in-github",
        "colab_type": "text"
      },
      "source": [
        "<a href=\"https://colab.research.google.com/github/manaf2808/BGP_ML/blob/main/(LR_NV_SVM_AdaBoost).ipynb\" target=\"_parent\"><img src=\"https://colab.research.google.com/assets/colab-badge.svg\" alt=\"Open In Colab\"/></a>"
      ]
    },
    {
      "cell_type": "code",
      "execution_count": null,
      "metadata": {
        "id": "mjavrbc806hz"
      },
      "outputs": [],
      "source": [
        "import math\n",
        "import time\n",
        "import pandas as pd\n",
        "import numpy as np\n",
        "from sklearn.model_selection import train_test_split\n",
        "from sklearn.metrics import accuracy_score, confusion_matrix, classification_report\n",
        "from sklearn.linear_model import LogisticRegression\n",
        "from sklearn.naive_bayes import GaussianNB\n",
        "from sklearn.svm import LinearSVC, SVC"
      ]
    },
    {
      "cell_type": "markdown",
      "source": [
        "# **Load Raw Data**"
      ],
      "metadata": {
        "id": "lLXOHGTS-hzk"
      }
    },
    {
      "cell_type": "code",
      "source": [
        "df = pd.read_csv('/content/Slammer.csv')\n",
        "\n",
        "new_column_names = ['Hour+Min', 'Hour', 'Min', 'Sec','1.Number of announcements', '2.Number of withdrawals', '3.Number of announced NLRI prefixes', '4.Number of withdrawn NLRI prefixes', '5.Average AS-path length', '6.Maximum AS-path length', '7.Average unique AS-path length', '8.Number of duplicate announcements', '9.Number of implicit withdrawals', '10.Number of duplicate withdrawals', '11.Maximum edit distance', '12Iter-Arrival rate','13.Maximum edit distance = 7', '14.Maximum edit distance = 8', '15.Maximum edit distance = 9', '16.Maximum edit distance = 10', '17.Maximum edit distance = 11', '18.Maximum edit distance = 12', '19.Maximum edit distance = 13', '20.Maximum edit distance = 14', '21.Maximum edit distance = 15', '22.Maximum edit distance = 16', '23.Maximum edit distance = 17','24.Maximum AS-path length = 7', '25.Maximum AS-path length = 8', '26.Maximum AS-path length = 9', '27.Maximum AS-path length = 10', '28.Maximum AS-path length = 11', '29.Maximum AS-path length = 12', '30.Maximum AS-path length = 13', '31.Maximum AS-path length = 14', '32.Maximum AS-path length = 15', '33.Maximum AS-path length = 16', '34.Number of (IGP) packets', '35.Number of (EGP) packets','36.Number of incomplete packets', '37.Packet size (B)', 'labels']\n",
        "df.columns = new_column_names\n",
        "\n",
        "X = df.drop(df.columns[:4].tolist() + ['labels'], axis=1)\n",
        "y = df['labels'].values"
      ],
      "metadata": {
        "id": "r-bv3VR91TmW"
      },
      "execution_count": null,
      "outputs": []
    },
    {
      "cell_type": "code",
      "source": [
        "positive_count = sum(y == 1)\n",
        "negative_count = sum(y == -1)\n",
        "\n",
        "print(\"Positive instances:\", positive_count)\n",
        "print(\"Negative instances:\", negative_count)"
      ],
      "metadata": {
        "colab": {
          "base_uri": "https://localhost:8080/"
        },
        "id": "xNy1hUnB_tvn",
        "outputId": "fc5ab3a9-61f3-4106-b588-57ee8455b1f9"
      },
      "execution_count": null,
      "outputs": [
        {
          "output_type": "stream",
          "name": "stdout",
          "text": [
            "Positive instances: 869\n",
            "Negative instances: 6330\n"
          ]
        }
      ]
    },
    {
      "cell_type": "markdown",
      "source": [
        "# **Training Set**"
      ],
      "metadata": {
        "id": "UayELst0-0JP"
      }
    },
    {
      "cell_type": "code",
      "source": [
        "# Split the data into training and testing sets\n",
        "X_train, X_test, y_train, y_test = train_test_split(X, y, test_size=0.2, random_state=42)\n",
        "\n",
        "positive_count = sum(y_train == 1)\n",
        "negative_count = sum(y_train == -1)\n",
        "\n",
        "print(\"Positive instances:\", positive_count)\n",
        "print(\"Negative instances:\", negative_count)"
      ],
      "metadata": {
        "colab": {
          "base_uri": "https://localhost:8080/"
        },
        "id": "Cj2cNMQJ-yjm",
        "outputId": "dbf0b134-59e3-4e38-e74e-dde7c814fd03"
      },
      "execution_count": null,
      "outputs": [
        {
          "output_type": "stream",
          "name": "stdout",
          "text": [
            "Positive instances: 701\n",
            "Negative instances: 5058\n"
          ]
        }
      ]
    },
    {
      "cell_type": "markdown",
      "source": [
        "# **Models Raw Data**"
      ],
      "metadata": {
        "id": "zxNuStXhQ01c"
      }
    },
    {
      "cell_type": "markdown",
      "source": [
        "## **Logsitic Regression**"
      ],
      "metadata": {
        "id": "8WxnMcfj-pVa"
      }
    },
    {
      "cell_type": "code",
      "source": [
        "# Create an Logstic Regression classifier\n",
        "classifier = LogisticRegression()\n",
        "\n",
        "start_time = time.time()\n",
        "# Train the classifier using the training data\n",
        "classifier.fit(X_train, y_train)\n",
        "training_time = time.time() - start_time\n",
        "\n",
        "# Make predictions on the testing data\n",
        "y_pred = classifier.predict(X_test)\n",
        "\n",
        "# Evaluate the accuracy of the classifier\n",
        "accuracy = accuracy_score(y_test, y_pred)\n",
        "print(\"Accuracy:\", accuracy)\n",
        "\n",
        "# Obtain the confusion matrix\n",
        "cm = confusion_matrix(y_test, y_pred)\n",
        "print(\"Confusion Matrix:\")\n",
        "print(cm)\n",
        "\n",
        "#Classification report\n",
        "classification_report = classification_report(y_test, y_pred)\n",
        "print(\"Classification Report:\")\n",
        "print(classification_report)\n",
        "print(\"Training Time:\", training_time, \"seconds\")"
      ],
      "metadata": {
        "colab": {
          "base_uri": "https://localhost:8080/"
        },
        "id": "Rywr6pIw4b6_",
        "outputId": "662653af-717f-4fdf-e1b2-0b2a613ee4d2"
      },
      "execution_count": null,
      "outputs": [
        {
          "output_type": "stream",
          "name": "stdout",
          "text": [
            "Accuracy: 0.9486111111111111\n",
            "Confusion Matrix:\n",
            "[[1255   17]\n",
            " [  57  111]]\n",
            "Classification Report:\n",
            "              precision    recall  f1-score   support\n",
            "\n",
            "          -1       0.96      0.99      0.97      1272\n",
            "           1       0.87      0.66      0.75       168\n",
            "\n",
            "    accuracy                           0.95      1440\n",
            "   macro avg       0.91      0.82      0.86      1440\n",
            "weighted avg       0.95      0.95      0.95      1440\n",
            "\n",
            "Training Time: 0.1140298843383789 seconds\n"
          ]
        },
        {
          "output_type": "stream",
          "name": "stderr",
          "text": [
            "/usr/local/lib/python3.10/dist-packages/sklearn/linear_model/_logistic.py:458: ConvergenceWarning: lbfgs failed to converge (status=1):\n",
            "STOP: TOTAL NO. of ITERATIONS REACHED LIMIT.\n",
            "\n",
            "Increase the number of iterations (max_iter) or scale the data as shown in:\n",
            "    https://scikit-learn.org/stable/modules/preprocessing.html\n",
            "Please also refer to the documentation for alternative solver options:\n",
            "    https://scikit-learn.org/stable/modules/linear_model.html#logistic-regression\n",
            "  n_iter_i = _check_optimize_result(\n"
          ]
        }
      ]
    },
    {
      "cell_type": "markdown",
      "source": [
        "## **Naive Bayes**"
      ],
      "metadata": {
        "id": "sw3wmoc6AcRs"
      }
    },
    {
      "cell_type": "code",
      "source": [
        "from sklearn.metrics import classification_report\n",
        "# Create an NB classifier\n",
        "classifier = GaussianNB()\n",
        "\n",
        "\n",
        "start_time = time.time()\n",
        "# Train the classifier using the training data\n",
        "classifier.fit(X_train, y_train)\n",
        "training_time = time.time() - start_time\n",
        "\n",
        "# Make predictions on the testing data\n",
        "y_pred = classifier.predict(X_test)\n",
        "\n",
        "# Evaluate the accuracy of the classifier\n",
        "accuracy = accuracy_score(y_test, y_pred)\n",
        "print(\"Accuracy:\", accuracy)\n",
        "\n",
        "# Obtain the confusion matrix\n",
        "cm = confusion_matrix(y_test, y_pred)\n",
        "print(\"Confusion Matrix:\")\n",
        "print(cm)\n",
        "\n",
        "#Classification report\n",
        "classification_report = classification_report(y_test, y_pred)\n",
        "print(\"Classification Report:\")\n",
        "print(classification_report)\n",
        "\n",
        "print(\"Training Time:\", training_time, \"seconds\")"
      ],
      "metadata": {
        "colab": {
          "base_uri": "https://localhost:8080/"
        },
        "id": "YbmGqkVqAgIu",
        "outputId": "1fb6b772-72b5-4ac2-acb2-008038a9a23e"
      },
      "execution_count": null,
      "outputs": [
        {
          "output_type": "stream",
          "name": "stdout",
          "text": [
            "Accuracy: 0.8791666666666667\n",
            "Confusion Matrix:\n",
            "[[1123  149]\n",
            " [  25  143]]\n",
            "Classification Report:\n",
            "              precision    recall  f1-score   support\n",
            "\n",
            "          -1       0.98      0.88      0.93      1272\n",
            "           1       0.49      0.85      0.62       168\n",
            "\n",
            "    accuracy                           0.88      1440\n",
            "   macro avg       0.73      0.87      0.77      1440\n",
            "weighted avg       0.92      0.88      0.89      1440\n",
            "\n",
            "Training Time: 0.018706321716308594 seconds\n"
          ]
        }
      ]
    },
    {
      "cell_type": "markdown",
      "source": [
        "## **SVM Different Kernels**"
      ],
      "metadata": {
        "id": "1PSwas21Agd3"
      }
    },
    {
      "cell_type": "code",
      "source": [
        "from sklearn.metrics import classification_report\n",
        "# Define the kernel functions to test\n",
        "kernel_functions = ['linear', 'poly', 'rbf', 'sigmoid']\n",
        "\n",
        "# Test different kernel functions\n",
        "for kernel in kernel_functions:\n",
        "    # Train the SVM model and measure the time taken\n",
        "    start_time = time.time()\n",
        "    svm_model = SVC(kernel=kernel)\n",
        "    svm_model.fit(X_train, y_train)\n",
        "    end_time = time.time()\n",
        "\n",
        "    # Make predictions on the test data\n",
        "    y_pred = svm_model.predict(X_test)\n",
        "\n",
        "    # Print the classification report and confusion matrix\n",
        "    print(\"Kernel Function: \", kernel)\n",
        "    print(classification_report(y_test, y_pred))\n",
        "    report = classification_report(y_test, y_pred, output_dict=True)\n",
        "    for label, metrics in report.items():\n",
        "        if label.isdigit():\n",
        "            for metric, value in metrics.items():\n",
        "                if metric != 'support':\n",
        "                    print(f\"{metric.capitalize()} ({label}): {value:.2%}\")\n",
        "    print(confusion_matrix(y_test, y_pred))\n",
        "    accuracy = accuracy_score(y_test, y_pred)\n",
        "    print(\"Accuracy: {:.2%}\".format(accuracy))\n",
        "    print(\"Time taken to train: {:.2f} seconds\\n\".format(end_time - start_time))"
      ],
      "metadata": {
        "id": "0ucsXTRhAle3",
        "colab": {
          "base_uri": "https://localhost:8080/"
        },
        "outputId": "2fdd4ab8-41f8-42e6-f099-7604a5c8b703"
      },
      "execution_count": null,
      "outputs": [
        {
          "output_type": "stream",
          "name": "stdout",
          "text": [
            "Kernel Function:  linear\n",
            "              precision    recall  f1-score   support\n",
            "\n",
            "          -1       0.97      0.98      0.97      1272\n",
            "           1       0.84      0.75      0.79       168\n",
            "\n",
            "    accuracy                           0.95      1440\n",
            "   macro avg       0.90      0.87      0.88      1440\n",
            "weighted avg       0.95      0.95      0.95      1440\n",
            "\n",
            "Precision (1): 84.00%\n",
            "Recall (1): 75.00%\n",
            "F1-score (1): 79.25%\n",
            "[[1248   24]\n",
            " [  42  126]]\n",
            "Accuracy: 95.42%\n",
            "Time taken to train: 380.31 seconds\n",
            "\n",
            "Kernel Function:  poly\n",
            "              precision    recall  f1-score   support\n",
            "\n",
            "          -1       0.95      0.99      0.97      1272\n",
            "           1       0.92      0.58      0.71       168\n",
            "\n",
            "    accuracy                           0.94      1440\n",
            "   macro avg       0.93      0.79      0.84      1440\n",
            "weighted avg       0.94      0.94      0.94      1440\n",
            "\n",
            "Precision (1): 91.51%\n",
            "Recall (1): 57.74%\n",
            "F1-score (1): 70.80%\n",
            "[[1263    9]\n",
            " [  71   97]]\n",
            "Accuracy: 94.44%\n",
            "Time taken to train: 0.18 seconds\n",
            "\n",
            "Kernel Function:  rbf\n",
            "              precision    recall  f1-score   support\n",
            "\n",
            "          -1       0.96      0.99      0.98      1272\n",
            "           1       0.92      0.72      0.81       168\n",
            "\n",
            "    accuracy                           0.96      1440\n",
            "   macro avg       0.94      0.86      0.89      1440\n",
            "weighted avg       0.96      0.96      0.96      1440\n",
            "\n",
            "Precision (1): 91.67%\n",
            "Recall (1): 72.02%\n",
            "F1-score (1): 80.67%\n",
            "[[1261   11]\n",
            " [  47  121]]\n",
            "Accuracy: 95.97%\n",
            "Time taken to train: 0.18 seconds\n",
            "\n",
            "Kernel Function:  sigmoid\n",
            "              precision    recall  f1-score   support\n",
            "\n",
            "          -1       0.92      0.93      0.92      1272\n",
            "           1       0.42      0.40      0.41       168\n",
            "\n",
            "    accuracy                           0.87      1440\n",
            "   macro avg       0.67      0.66      0.67      1440\n",
            "weighted avg       0.86      0.87      0.86      1440\n",
            "\n",
            "Precision (1): 42.14%\n",
            "Recall (1): 39.88%\n",
            "F1-score (1): 40.98%\n",
            "[[1180   92]\n",
            " [ 101   67]]\n",
            "Accuracy: 86.60%\n",
            "Time taken to train: 0.35 seconds\n",
            "\n"
          ]
        }
      ]
    },
    {
      "cell_type": "markdown",
      "source": [
        "# **AdaBoost Model**"
      ],
      "metadata": {
        "id": "XBstGI2_R0Mr"
      }
    },
    {
      "cell_type": "code",
      "source": [
        "from sklearn.ensemble import AdaBoostClassifier\n",
        "# Create an AdaBoost classifier\n",
        "classifier = AdaBoostClassifier()\n",
        "\n",
        "start_time = time.time()\n",
        "# Train the classifier using the training data\n",
        "classifier.fit(X_train, y_train)\n",
        "training_time = time.time() - start_time\n",
        "\n",
        "\n",
        "# Make predictions on the testing data\n",
        "y_pred = classifier.predict(X_test)\n",
        "\n",
        "# Evaluate the accuracy of the classifier\n",
        "accuracy = accuracy_score(y_test, y_pred)\n",
        "print(\"Accuracy:\", accuracy)\n",
        "# Obtain the confusion matrix\n",
        "cm = confusion_matrix(y_test, y_pred)\n",
        "print(\"Confusion Matrix:\")\n",
        "print(cm)\n",
        "\n",
        "classification_report = classification_report(y_test, y_pred)\n",
        "print(\"Classification Report:\")\n",
        "print(classification_report)\n",
        "print(\"Time taken to train: {:.2f} seconds\\n\".format(training_time))\n"
      ],
      "metadata": {
        "id": "WlBISJ1jR8MA",
        "outputId": "d4eba709-b5c2-46df-b547-80643f0b77a3",
        "colab": {
          "base_uri": "https://localhost:8080/"
        }
      },
      "execution_count": null,
      "outputs": [
        {
          "output_type": "stream",
          "name": "stdout",
          "text": [
            "Accuracy: 0.9722222222222222\n",
            "Confusion Matrix:\n",
            "[[1256   16]\n",
            " [  24  144]]\n",
            "Classification Report:\n",
            "              precision    recall  f1-score   support\n",
            "\n",
            "          -1       0.98      0.99      0.98      1272\n",
            "           1       0.90      0.86      0.88       168\n",
            "\n",
            "    accuracy                           0.97      1440\n",
            "   macro avg       0.94      0.92      0.93      1440\n",
            "weighted avg       0.97      0.97      0.97      1440\n",
            "\n",
            "Time taken to train: 0.36 seconds\n",
            "\n"
          ]
        }
      ]
    }
  ]
}